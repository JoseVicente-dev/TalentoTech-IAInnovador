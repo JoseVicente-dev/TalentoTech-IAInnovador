{
 "cells": [
  {
   "cell_type": "code",
   "execution_count": null,
   "metadata": {},
   "outputs": [],
   "source": [
    "'''\n",
    "Ejemplo de cómo implementar una red neuronal \n",
    "para clasificación con (MLPClassifier) utilizando Sklearn\n",
    "'''\n",
    "#Cargar librerías\n",
    "from sklearn.neural_network import MLPClassifier #Multilayer perceptron classifier de scikit-learn\n",
    "from sklearn.datasets import load_iris #Dataset simple y sencillo conocido como Iris\n",
    "from sklearn.model_selection import train_test_split #Divide arreglos o matrices en subconjuntos aleatorios para entrenamiento y prueba\n",
    "from sklearn.preprocessing import StandardScaler #Permite transformar los estadísticos a la funcion normal estándar Z = (X-u)/s\n",
    "from sklearn.metrics import accuracy_score # Permite calcular el puntaje de precision de la clasificación. "
   ]
  }
 ],
 "metadata": {
  "kernelspec": {
   "display_name": "venv",
   "language": "python",
   "name": "python3"
  },
  "language_info": {
   "name": "python",
   "version": "3.12.1"
  }
 },
 "nbformat": 4,
 "nbformat_minor": 2
}
